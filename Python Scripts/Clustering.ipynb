{
 "cells": [
  {
   "cell_type": "code",
   "execution_count": 1,
   "id": "06d9f161",
   "metadata": {},
   "outputs": [],
   "source": [
    "import pandas as pd\n",
    "import numpy as np\n",
    "import warnings\n",
    "import matplotlib.pyplot as plt\n",
    "\n",
    "from sklearn.preprocessing import OneHotEncoder\n",
    "from sklearn.cluster import KMeans\n",
    "from sklearn.preprocessing import MinMaxScaler\n",
    "from sklearn.metrics import silhouette_score\n",
    "\n",
    "warnings.filterwarnings('ignore')"
   ]
  },
  {
   "cell_type": "code",
   "execution_count": 2,
   "id": "53b6c70d",
   "metadata": {},
   "outputs": [
    {
     "data": {
      "text/html": [
       "<div>\n",
       "<style scoped>\n",
       "    .dataframe tbody tr th:only-of-type {\n",
       "        vertical-align: middle;\n",
       "    }\n",
       "\n",
       "    .dataframe tbody tr th {\n",
       "        vertical-align: top;\n",
       "    }\n",
       "\n",
       "    .dataframe thead th {\n",
       "        text-align: right;\n",
       "    }\n",
       "</style>\n",
       "<table border=\"1\" class=\"dataframe\">\n",
       "  <thead>\n",
       "    <tr style=\"text-align: right;\">\n",
       "      <th></th>\n",
       "      <th>actor/actress</th>\n",
       "      <th>category</th>\n",
       "      <th>type</th>\n",
       "      <th>title</th>\n",
       "      <th>year</th>\n",
       "      <th>duration</th>\n",
       "      <th>genres</th>\n",
       "      <th>rating</th>\n",
       "      <th>votes</th>\n",
       "    </tr>\n",
       "  </thead>\n",
       "  <tbody>\n",
       "    <tr>\n",
       "      <th>0</th>\n",
       "      <td>Fred Astaire</td>\n",
       "      <td>actor</td>\n",
       "      <td>movie</td>\n",
       "      <td>The Gay Divorcee</td>\n",
       "      <td>1934</td>\n",
       "      <td>107</td>\n",
       "      <td>Comedy,Musical,Romance</td>\n",
       "      <td>7.4</td>\n",
       "      <td>8322</td>\n",
       "    </tr>\n",
       "    <tr>\n",
       "      <th>1</th>\n",
       "      <td>Ginger Rogers</td>\n",
       "      <td>actress</td>\n",
       "      <td>movie</td>\n",
       "      <td>The Gay Divorcee</td>\n",
       "      <td>1934</td>\n",
       "      <td>107</td>\n",
       "      <td>Comedy,Musical,Romance</td>\n",
       "      <td>7.4</td>\n",
       "      <td>8322</td>\n",
       "    </tr>\n",
       "    <tr>\n",
       "      <th>2</th>\n",
       "      <td>Edward Everett Horton</td>\n",
       "      <td>actor</td>\n",
       "      <td>movie</td>\n",
       "      <td>The Gay Divorcee</td>\n",
       "      <td>1934</td>\n",
       "      <td>107</td>\n",
       "      <td>Comedy,Musical,Romance</td>\n",
       "      <td>7.4</td>\n",
       "      <td>8322</td>\n",
       "    </tr>\n",
       "    <tr>\n",
       "      <th>3</th>\n",
       "      <td>Alice Brady</td>\n",
       "      <td>actress</td>\n",
       "      <td>movie</td>\n",
       "      <td>The Gay Divorcee</td>\n",
       "      <td>1934</td>\n",
       "      <td>107</td>\n",
       "      <td>Comedy,Musical,Romance</td>\n",
       "      <td>7.4</td>\n",
       "      <td>8322</td>\n",
       "    </tr>\n",
       "    <tr>\n",
       "      <th>4</th>\n",
       "      <td>Fred Astaire</td>\n",
       "      <td>actor</td>\n",
       "      <td>movie</td>\n",
       "      <td>Roberta</td>\n",
       "      <td>1935</td>\n",
       "      <td>106</td>\n",
       "      <td>Comedy,Musical,Romance</td>\n",
       "      <td>7.0</td>\n",
       "      <td>3560</td>\n",
       "    </tr>\n",
       "    <tr>\n",
       "      <th>...</th>\n",
       "      <td>...</td>\n",
       "      <td>...</td>\n",
       "      <td>...</td>\n",
       "      <td>...</td>\n",
       "      <td>...</td>\n",
       "      <td>...</td>\n",
       "      <td>...</td>\n",
       "      <td>...</td>\n",
       "      <td>...</td>\n",
       "    </tr>\n",
       "    <tr>\n",
       "      <th>6075698</th>\n",
       "      <td>Gaia Delepine</td>\n",
       "      <td>actress</td>\n",
       "      <td>short</td>\n",
       "      <td>Entre Deux Stations</td>\n",
       "      <td>2017</td>\n",
       "      <td>5</td>\n",
       "      <td>Short</td>\n",
       "      <td>8.9</td>\n",
       "      <td>13</td>\n",
       "    </tr>\n",
       "    <tr>\n",
       "      <th>6075699</th>\n",
       "      <td>Alejandro Bordier</td>\n",
       "      <td>actor</td>\n",
       "      <td>short</td>\n",
       "      <td>Entre Deux Stations</td>\n",
       "      <td>2017</td>\n",
       "      <td>5</td>\n",
       "      <td>Short</td>\n",
       "      <td>8.9</td>\n",
       "      <td>13</td>\n",
       "    </tr>\n",
       "    <tr>\n",
       "      <th>6075700</th>\n",
       "      <td>James Craigmyle</td>\n",
       "      <td>self</td>\n",
       "      <td>tvEpisode</td>\n",
       "      <td>Top 10 K9 Moments</td>\n",
       "      <td>2019</td>\n",
       "      <td>\\N</td>\n",
       "      <td>Crime,Reality-TV</td>\n",
       "      <td>7.5</td>\n",
       "      <td>9</td>\n",
       "    </tr>\n",
       "    <tr>\n",
       "      <th>6075701</th>\n",
       "      <td>James Craigmyle</td>\n",
       "      <td>self</td>\n",
       "      <td>tvEpisode</td>\n",
       "      <td>Raising the Woof</td>\n",
       "      <td>2020</td>\n",
       "      <td>41</td>\n",
       "      <td>Reality-TV</td>\n",
       "      <td>8.4</td>\n",
       "      <td>16</td>\n",
       "    </tr>\n",
       "    <tr>\n",
       "      <th>6075702</th>\n",
       "      <td>James Craigmyle</td>\n",
       "      <td>self</td>\n",
       "      <td>tvEpisode</td>\n",
       "      <td>The Fast and the Furriest</td>\n",
       "      <td>2020</td>\n",
       "      <td>41</td>\n",
       "      <td>Reality-TV</td>\n",
       "      <td>7.7</td>\n",
       "      <td>9</td>\n",
       "    </tr>\n",
       "  </tbody>\n",
       "</table>\n",
       "<p>6075703 rows × 9 columns</p>\n",
       "</div>"
      ],
      "text/plain": [
       "                 actor/actress category       type                      title  \\\n",
       "0                 Fred Astaire    actor      movie           The Gay Divorcee   \n",
       "1                Ginger Rogers  actress      movie           The Gay Divorcee   \n",
       "2        Edward Everett Horton    actor      movie           The Gay Divorcee   \n",
       "3                  Alice Brady  actress      movie           The Gay Divorcee   \n",
       "4                 Fred Astaire    actor      movie                    Roberta   \n",
       "...                        ...      ...        ...                        ...   \n",
       "6075698          Gaia Delepine  actress      short        Entre Deux Stations   \n",
       "6075699      Alejandro Bordier    actor      short        Entre Deux Stations   \n",
       "6075700        James Craigmyle     self  tvEpisode          Top 10 K9 Moments   \n",
       "6075701        James Craigmyle     self  tvEpisode           Raising the Woof   \n",
       "6075702        James Craigmyle     self  tvEpisode  The Fast and the Furriest   \n",
       "\n",
       "         year duration                  genres  rating  votes  \n",
       "0        1934      107  Comedy,Musical,Romance     7.4   8322  \n",
       "1        1934      107  Comedy,Musical,Romance     7.4   8322  \n",
       "2        1934      107  Comedy,Musical,Romance     7.4   8322  \n",
       "3        1934      107  Comedy,Musical,Romance     7.4   8322  \n",
       "4        1935      106  Comedy,Musical,Romance     7.0   3560  \n",
       "...       ...      ...                     ...     ...    ...  \n",
       "6075698  2017        5                   Short     8.9     13  \n",
       "6075699  2017        5                   Short     8.9     13  \n",
       "6075700  2019       \\N        Crime,Reality-TV     7.5      9  \n",
       "6075701  2020       41              Reality-TV     8.4     16  \n",
       "6075702  2020       41              Reality-TV     7.7      9  \n",
       "\n",
       "[6075703 rows x 9 columns]"
      ]
     },
     "execution_count": 2,
     "metadata": {},
     "output_type": "execute_result"
    }
   ],
   "source": [
    "df = pd.read_csv('cleaned_movies.csv')\n",
    "df"
   ]
  },
  {
   "cell_type": "code",
   "execution_count": 3,
   "id": "3e9ffbe4",
   "metadata": {},
   "outputs": [],
   "source": [
    "#Encoding genres\n",
    "df_genres = df['genres'].str.get_dummies(',')"
   ]
  },
  {
   "cell_type": "code",
   "execution_count": 4,
   "id": "74a2c89a",
   "metadata": {},
   "outputs": [],
   "source": [
    "#Normalizing ratings\n",
    "scaler = MinMaxScaler()\n",
    "df['rating'] = scaler.fit_transform(df[['rating']])"
   ]
  },
  {
   "cell_type": "code",
   "execution_count": 5,
   "id": "2f36d1b7",
   "metadata": {},
   "outputs": [],
   "source": [
    "#Merging both\n",
    "newdf = pd.concat([df_genres, df['rating']], axis=1)"
   ]
  },
  {
   "cell_type": "code",
   "execution_count": 6,
   "id": "4923e1aa",
   "metadata": {},
   "outputs": [],
   "source": [
    "#Sum of squared distances as per theory\n",
    "ssd = []\n",
    "K = range(1, 15)\n",
    "\n",
    "for k in K:\n",
    "    model = KMeans(n_clusters=k)\n",
    "    model = model.fit(newdf)\n",
    "    ssd.append(model.inertia_)"
   ]
  },
  {
   "cell_type": "code",
   "execution_count": 7,
   "id": "136028b5",
   "metadata": {},
   "outputs": [
    {
     "data": {
      "image/png": "[encoded data removed]",
      "text/plain": [
       "<Figure size 640x480 with 1 Axes>"
      ]
     },
     "metadata": {},
     "output_type": "display_data"
    }
   ],
   "source": [
    "plt.plot(K, ssd, 'bx-')\n",
    "plt.xlabel('k')\n",
    "plt.ylabel('Sum of squared distances')\n",
    "plt.title('Elbow Method')\n",
    "plt.show()"
   ]
  },
  {
   "cell_type": "code",
   "execution_count": 9,
   "id": "6fe93a68",
   "metadata": {},
   "outputs": [
    {
     "data": {
      "text/html": [
       "<style>#sk-container-id-1 {color: black;background-color: white;}#sk-container-id-1 pre{padding: 0;}#sk-container-id-1 div.sk-toggleable {background-color: white;}#sk-container-id-1 label.sk-toggleable__label {cursor: pointer;display: block;width: 100%;margin-bottom: 0;padding: 0.3em;box-sizing: border-box;text-align: center;}#sk-container-id-1 label.sk-toggleable__label-arrow:before {content: \"▸\";float: left;margin-right: 0.25em;color: #696969;}#sk-container-id-1 label.sk-toggleable__label-arrow:hover:before {color: black;}#sk-container-id-1 div.sk-estimator:hover label.sk-toggleable__label-arrow:before {color: black;}#sk-container-id-1 div.sk-toggleable__content {max-height: 0;max-width: 0;overflow: hidden;text-align: left;background-color: #f0f8ff;}#sk-container-id-1 div.sk-toggleable__content pre {margin: 0.2em;color: black;border-radius: 0.25em;background-color: #f0f8ff;}#sk-container-id-1 input.sk-toggleable__control:checked~div.sk-toggleable__content {max-height: 200px;max-width: 100%;overflow: auto;}#sk-container-id-1 input.sk-toggleable__control:checked~label.sk-toggleable__label-arrow:before {content: \"▾\";}#sk-container-id-1 div.sk-estimator input.sk-toggleable__control:checked~label.sk-toggleable__label {background-color: #d4ebff;}#sk-container-id-1 div.sk-label input.sk-toggleable__control:checked~label.sk-toggleable__label {background-color: #d4ebff;}#sk-container-id-1 input.sk-hidden--visually {border: 0;clip: rect(1px 1px 1px 1px);clip: rect(1px, 1px, 1px, 1px);height: 1px;margin: -1px;overflow: hidden;padding: 0;position: absolute;width: 1px;}#sk-container-id-1 div.sk-estimator {font-family: monospace;background-color: #f0f8ff;border: 1px dotted black;border-radius: 0.25em;box-sizing: border-box;margin-bottom: 0.5em;}#sk-container-id-1 div.sk-estimator:hover {background-color: #d4ebff;}#sk-container-id-1 div.sk-parallel-item::after {content: \"\";width: 100%;border-bottom: 1px solid gray;flex-grow: 1;}#sk-container-id-1 div.sk-label:hover label.sk-toggleable__label {background-color: #d4ebff;}#sk-container-id-1 div.sk-serial::before {content: \"\";position: absolute;border-left: 1px solid gray;box-sizing: border-box;top: 0;bottom: 0;left: 50%;z-index: 0;}#sk-container-id-1 div.sk-serial {display: flex;flex-direction: column;align-items: center;background-color: white;padding-right: 0.2em;padding-left: 0.2em;position: relative;}#sk-container-id-1 div.sk-item {position: relative;z-index: 1;}#sk-container-id-1 div.sk-parallel {display: flex;align-items: stretch;justify-content: center;background-color: white;position: relative;}#sk-container-id-1 div.sk-item::before, #sk-container-id-1 div.sk-parallel-item::before {content: \"\";position: absolute;border-left: 1px solid gray;box-sizing: border-box;top: 0;bottom: 0;left: 50%;z-index: -1;}#sk-container-id-1 div.sk-parallel-item {display: flex;flex-direction: column;z-index: 1;position: relative;background-color: white;}#sk-container-id-1 div.sk-parallel-item:first-child::after {align-self: flex-end;width: 50%;}#sk-container-id-1 div.sk-parallel-item:last-child::after {align-self: flex-start;width: 50%;}#sk-container-id-1 div.sk-parallel-item:only-child::after {width: 0;}#sk-container-id-1 div.sk-dashed-wrapped {border: 1px dashed gray;margin: 0 0.4em 0.5em 0.4em;box-sizing: border-box;padding-bottom: 0.4em;background-color: white;}#sk-container-id-1 div.sk-label label {font-family: monospace;font-weight: bold;display: inline-block;line-height: 1.2em;}#sk-container-id-1 div.sk-label-container {text-align: center;}#sk-container-id-1 div.sk-container {/* jupyter's `normalize.less` sets `[hidden] { display: none; }` but bootstrap.min.css set `[hidden] { display: none !important; }` so we also need the `!important` here to be able to override the default hidden behavior on the sphinx rendered scikit-learn.org. See: https://github.com/scikit-learn/scikit-learn/issues/21755 */display: inline-block !important;position: relative;}#sk-container-id-1 div.sk-text-repr-fallback {display: none;}</style><div id=\"sk-container-id-1\" class=\"sk-top-container\"><div class=\"sk-text-repr-fallback\"><pre>KMeans(n_clusters=6)</pre><b>In a Jupyter environment, please rerun this cell to show the HTML representation or trust the notebook. <br />On GitHub, the HTML representation is unable to render, please try loading this page with nbviewer.org.</b></div><div class=\"sk-container\" hidden><div class=\"sk-item\"><div class=\"sk-estimator sk-toggleable\"><input class=\"sk-toggleable__control sk-hidden--visually\" id=\"sk-estimator-id-1\" type=\"checkbox\" checked><label for=\"sk-estimator-id-1\" class=\"sk-toggleable__label sk-toggleable__label-arrow\">KMeans</label><div class=\"sk-toggleable__content\"><pre>KMeans(n_clusters=6)</pre></div></div></div></div></div>"
      ],
      "text/plain": [
       "KMeans(n_clusters=6)"
      ]
     },
     "execution_count": 9,
     "metadata": {},
     "output_type": "execute_result"
    }
   ],
   "source": [
    "true_k = 6  \n",
    "model = KMeans(n_clusters=true_k)\n",
    "model.fit(newdf)"
   ]
  },
  {
   "cell_type": "code",
   "execution_count": 10,
   "id": "17b46980",
   "metadata": {},
   "outputs": [],
   "source": [
    "#new column 'cluster' for the clusters of each movie\n",
    "df['cluster'] = model.labels_"
   ]
  },
  {
   "cell_type": "code",
   "execution_count": 11,
   "id": "0031fff7",
   "metadata": {},
   "outputs": [],
   "source": [
    "#Creating the function\n",
    "def recommend_movies(movie_name):\n",
    "    cluster_number = df[df['title'] == movie_name]['cluster'].values[0] \n",
    "    return df[df['cluster'] == cluster_number]['title']"
   ]
  },
  {
   "cell_type": "code",
   "execution_count": 12,
   "id": "4033521c",
   "metadata": {},
   "outputs": [
    {
     "name": "stdout",
     "output_type": "stream",
     "text": [
      "177              It Takes a Thief\n",
      "178              It Takes a Thief\n",
      "179              It Takes a Thief\n",
      "180              It Takes a Thief\n",
      "181              It Takes a Thief\n",
      "                    ...          \n",
      "6075622      Spider-Man: The Hunt\n",
      "6075623      Spider-Man: The Hunt\n",
      "6075637       Super Mario Bros. Z\n",
      "6075638       Super Mario Bros. Z\n",
      "6075657    Still Life with Cookie\n",
      "Name: title, Length: 597451, dtype: object\n"
     ]
    }
   ],
   "source": [
    "recommendations = recommend_movies(\"Jurassic Park\")\n",
    "print(recommendations)"
   ]
  },
  {
   "cell_type": "code",
   "execution_count": 13,
   "id": "899d1b9b",
   "metadata": {},
   "outputs": [],
   "source": [
    "#Getting rid of the duplicates\n",
    "def recommend_movies(movie_name):\n",
    "    cluster_number = df[df['title'] == movie_name]['cluster'].values[0] \n",
    "    return df[df['cluster'] == cluster_number]['title'].drop_duplicates()"
   ]
  },
  {
   "cell_type": "code",
   "execution_count": 14,
   "id": "35b2d149",
   "metadata": {},
   "outputs": [
    {
     "name": "stdout",
     "output_type": "stream",
     "text": [
      "177                          It Takes a Thief\n",
      "203             Santa Claus Is Comin' to Town\n",
      "236        The Easter Bunny Is Comin' to Town\n",
      "609            An Evening with Alistair Mundy\n",
      "613                    The Great Casino Caper\n",
      "                          ...                \n",
      "6075593                        Mob 1 ~Moving~\n",
      "6075621              Farrah Rogue - Awakening\n",
      "6075622                  Spider-Man: The Hunt\n",
      "6075637                   Super Mario Bros. Z\n",
      "6075657                Still Life with Cookie\n",
      "Name: title, Length: 104166, dtype: object\n"
     ]
    }
   ],
   "source": [
    "recommendations = recommend_movies(\"Spider-Man: The Hunt\")\n",
    "print(recommendations)"
   ]
  },
  {
   "cell_type": "code",
   "execution_count": null,
   "id": "1b0b195a",
   "metadata": {},
   "outputs": [],
   "source": []
  }
 ],
 "metadata": {
  "kernelspec": {
   "display_name": "Python 3 (ipykernel)",
   "language": "python",
   "name": "python3"
  },
  "language_info": {
   "codemirror_mode": {
    "name": "ipython",
    "version": 3
   },
   "file_extension": ".py",
   "mimetype": "text/x-python",
   "name": "python",
   "nbconvert_exporter": "python",
   "pygments_lexer": "ipython3",
   "version": "3.10.9"
  }
 },
 "nbformat": 4,
 "nbformat_minor": 5
}
